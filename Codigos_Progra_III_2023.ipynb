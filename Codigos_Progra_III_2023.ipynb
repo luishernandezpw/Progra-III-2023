{
  "nbformat": 4,
  "nbformat_minor": 0,
  "metadata": {
    "colab": {
      "provenance": [],
      "authorship_tag": "ABX9TyNRycDZd0yku8/t7lSuy9Co",
      "include_colab_link": true
    },
    "kernelspec": {
      "name": "python3",
      "display_name": "Python 3"
    },
    "language_info": {
      "name": "python"
    }
  },
  "cells": [
    {
      "cell_type": "markdown",
      "metadata": {
        "id": "view-in-github",
        "colab_type": "text"
      },
      "source": [
        "<a href=\"https://colab.research.google.com/github/luishernandezpw/Progra-III-2023/blob/master/Codigos_Progra_III_2023.ipynb\" target=\"_parent\"><img src=\"https://colab.research.google.com/assets/colab-badge.svg\" alt=\"Open In Colab\"/></a>"
      ]
    },
    {
      "cell_type": "markdown",
      "source": [
        "TIPOS DE DATOS"
      ],
      "metadata": {
        "id": "F40pH3Ih7maL"
      }
    },
    {
      "cell_type": "code",
      "execution_count": null,
      "metadata": {
        "colab": {
          "base_uri": "https://localhost:8080/"
        },
        "id": "nsaHrLNq7kZ2",
        "outputId": "5f823fb2-e329-4cb4-ac5d-fa46d7dea171"
      },
      "outputs": [
        {
          "output_type": "stream",
          "name": "stdout",
          "text": [
            "Los valores: Num 1:  5  Num 2:  4.9\n",
            "Valor: Num 1:  5\n"
          ]
        }
      ],
      "source": [
        "num1 = 5 #variable de tipo entero.\n",
        "num2 = 4.9 #variable de tipo double, real, decimal.\n",
        "print(\"Los valores: Num 1: \", num1, \" Num 2: \", num2)\n",
        "\n",
        "#num1 = 4.9\n",
        "print(\"Valor: Num 1: \", num1)"
      ]
    },
    {
      "cell_type": "code",
      "source": [
        "varLogica = False\n",
        "\n",
        "print(\"Variable Booleana: \", varLogica)"
      ],
      "metadata": {
        "colab": {
          "base_uri": "https://localhost:8080/"
        },
        "id": "yayrOQVN8u3r",
        "outputId": "c12fbb39-a7c6-429e-e7bd-05071c1ba993"
      },
      "execution_count": null,
      "outputs": [
        {
          "output_type": "stream",
          "name": "stdout",
          "text": [
            "Variable Booleana:  False\n"
          ]
        }
      ]
    },
    {
      "cell_type": "code",
      "source": [
        "nombre = \"Luis Hernandez\"\n",
        "print(\"Mi Nombre: \", nombre, \"Iniciales: \", nombre[0], nombre[5], \"Longitud: \", len(nombre) )\n",
        "print(\"Primer Nombre: \", nombre[0:5])\n",
        "print(\"Primer Nombre: \", nombre[:5])\n",
        "print(\"Apellido: \", nombre[5:len(nombre)])\n",
        "print(\"Apellid: \", nombre[5:])\n",
        "print(\"Apellido: \", nombre[-9:])\n"
      ],
      "metadata": {
        "colab": {
          "base_uri": "https://localhost:8080/"
        },
        "id": "Zig099CE9CAa",
        "outputId": "36f06054-429c-4953-952e-a75a8f6b3f00"
      },
      "execution_count": null,
      "outputs": [
        {
          "output_type": "stream",
          "name": "stdout",
          "text": [
            "Mi Nombre:  Luis Hernandez Iniciales:  L H Longitud:  14\n",
            "Primer Nombre:  Luis \n",
            "Primer Nombre:  Luis \n",
            "Apellido:  Hernandez\n",
            "Apellid:  Hernandez\n",
            "Apellido:  Hernandez\n"
          ]
        }
      ]
    },
    {
      "cell_type": "code",
      "source": [
        "print(type(num1))\n",
        "print(type(num2))\n",
        "print(type(varLogica))\n",
        "print(type(nombre))"
      ],
      "metadata": {
        "colab": {
          "base_uri": "https://localhost:8080/"
        },
        "id": "3SjFmqx1BEtT",
        "outputId": "afaab7bc-8dff-4fb2-a3a3-a6e3887db0b2"
      },
      "execution_count": null,
      "outputs": [
        {
          "output_type": "stream",
          "name": "stdout",
          "text": [
            "<class 'int'>\n",
            "<class 'float'>\n",
            "<class 'bool'>\n",
            "<class 'str'>\n"
          ]
        }
      ]
    },
    {
      "cell_type": "code",
      "source": [
        "num1 = float(input(\"Num 1: \"))\n",
        "num2 = float(input(\"Num 2: \"))\n",
        "resp = num1 + num2\n",
        "print(\"La suma es: \", resp)"
      ],
      "metadata": {
        "colab": {
          "base_uri": "https://localhost:8080/"
        },
        "id": "FEQBcLJfCB2l",
        "outputId": "f2204155-daf9-42cb-8890-e5e43c30a07e"
      },
      "execution_count": null,
      "outputs": [
        {
          "output_type": "stream",
          "name": "stdout",
          "text": [
            "Num 1: 5.5\n",
            "Num 2: 4.6\n",
            "La suma es:  10.1\n"
          ]
        }
      ]
    },
    {
      "cell_type": "code",
      "source": [
        "def suma(num1, num2):\n",
        "  return num1 + num2"
      ],
      "metadata": {
        "id": "2Ux8q7gtCqLU"
      },
      "execution_count": null,
      "outputs": []
    },
    {
      "cell_type": "code",
      "source": [
        "num1 = float(input(\"Num 1: \"))\n",
        "num2 = float(input(\"N4.26um 2: \"))\n",
        "resp = suma(num1, num2)\n",
        "print(resp)"
      ],
      "metadata": {
        "colab": {
          "base_uri": "https://localhost:8080/"
        },
        "id": "w4vsG6DsCy8E",
        "outputId": "27a30e0b-68b7-4526-c0cf-41ff1af9a764"
      },
      "execution_count": null,
      "outputs": [
        {
          "output_type": "stream",
          "name": "stdout",
          "text": [
            "Num 1: 4\n",
            "N4.2um 2: 6\n",
            "10.0\n"
          ]
        }
      ]
    },
    {
      "cell_type": "markdown",
      "source": [
        "**FUNCIONES DE USUARIO**\n",
        "\n",
        "* Convertir grados celsius a farenheit."
      ],
      "metadata": {
        "id": "6cq55WCdAnzB"
      }
    },
    {
      "cell_type": "code",
      "source": [
        "def convertir_cf(c):\n",
        "  return 32 + c*9/5"
      ],
      "metadata": {
        "id": "7SufsIquBvy3"
      },
      "execution_count": null,
      "outputs": []
    },
    {
      "cell_type": "code",
      "source": [
        "c = float(input(\"Celsius: \"))\n",
        "print(\"F: \", convertir_cf(c))"
      ],
      "metadata": {
        "colab": {
          "base_uri": "https://localhost:8080/"
        },
        "id": "SurIz-llAnOq",
        "outputId": "a66a8d33-9640-4e8b-a14e-5752cf47057e"
      },
      "execution_count": null,
      "outputs": [
        {
          "output_type": "stream",
          "name": "stdout",
          "text": [
            "Celsius: 3\n",
            "F:  37.4\n"
          ]
        }
      ]
    },
    {
      "cell_type": "markdown",
      "source": [
        "**EJERCICIOS**\n",
        "* Convertir de Farenheit a Celsius\n",
        "* Convertir de [Celsius, Farenheit] a Kelvin"
      ],
      "metadata": {
        "id": "kZ5SZj9jGwOd"
      }
    },
    {
      "cell_type": "markdown",
      "source": [
        "* CALCULAR EL SUELDO MENSUAL"
      ],
      "metadata": {
        "id": "QASAQE1qKDph"
      }
    },
    {
      "cell_type": "code",
      "source": [
        "def sueldo(numHrs, valorXhr):\n",
        "  sueldo = numHrs*valorXhr*30\n",
        "  if(numHrs>8):\n",
        "    sueldo += (numHrs-8)*valorXhr*2*30\n",
        "  #isss + afp = 3 + 6.25 = 9.25 = 100 - 9.25 = 90.75/100 = 0.9075\n",
        "  #sueldo = sueldo*0.9075\n",
        "  return sueldo"
      ],
      "metadata": {
        "id": "T-V9nZ5ZJHhf"
      },
      "execution_count": null,
      "outputs": []
    },
    {
      "cell_type": "code",
      "source": [
        "tabla_isr = [\n",
        "    [0.01, 472, 0, 0],\n",
        "    [472.01, 895.24, 0.1, 17.67],\n",
        "    [895.25, 2038.1, 0.2, 60.00],\n",
        "    [2038.11,9999999, 0.3, 288.57]\n",
        "]"
      ],
      "metadata": {
        "id": "EVHH4A95VL5O"
      },
      "execution_count": null,
      "outputs": []
    },
    {
      "cell_type": "code",
      "source": [
        "def calcularIsr(sueldo, sueldoNeto):\n",
        "  impSr = 0\n",
        "  for tramo in tabla_isr:\n",
        "    if sueldo>tramo[0] and sueldo<=tramo[1]:\n",
        "      impSr = (sueldoNeto-tramo[0])*tramo[2] + tramo[3]\n",
        "  return impSr"
      ],
      "metadata": {
        "id": "1L4sEmNOXTiC"
      },
      "execution_count": null,
      "outputs": []
    },
    {
      "cell_type": "code",
      "source": [
        "valorXhr = 4\n",
        "#isss = 3%\n",
        "#afp = 6.25%\n",
        "numHrs = float(input(\"Horas trabajadas: \"))\n",
        "s = sueldo(numHrs, valorXhr)\n",
        "isr = calcularIsr(s, s*0.9075)\n",
        "print( \"Sueldo: \", s, \"ISR: \", isr, s*0.9075-isr )"
      ],
      "metadata": {
        "colab": {
          "base_uri": "https://localhost:8080/"
        },
        "id": "yh6CLsKzKsrj",
        "outputId": "b9f75f1f-9a2d-445f-abfb-9004f88e1a1e"
      },
      "execution_count": null,
      "outputs": [
        {
          "output_type": "stream",
          "name": "stdout",
          "text": [
            "Horas trabajadas: 8\n",
            "Sueldo:  960.0 ISR:  55.18999999999998 816.01\n"
          ]
        }
      ]
    },
    {
      "cell_type": "markdown",
      "source": [
        "**FUNCIONES LAMBDA**\n",
        "* FUNCIONES PRECONTRUIDAS MAP, FILTER, FIND, REDUCE, ETC."
      ],
      "metadata": {
        "id": "heQxy-5yC4lK"
      }
    },
    {
      "cell_type": "code",
      "source": [
        "def elevarCuadrado(num):\n",
        "  return num**2"
      ],
      "metadata": {
        "id": "eeH3DBemEiwZ"
      },
      "execution_count": null,
      "outputs": []
    },
    {
      "cell_type": "code",
      "source": [
        "data = [1,2,3,4,5]"
      ],
      "metadata": {
        "id": "RTv6ZkhUFA1i"
      },
      "execution_count": null,
      "outputs": []
    },
    {
      "cell_type": "code",
      "source": [
        "resp = map(elevarCuadrado, data)\n",
        "print(list(resp))"
      ],
      "metadata": {
        "colab": {
          "base_uri": "https://localhost:8080/"
        },
        "id": "PctATc9kDA2S",
        "outputId": "40cb686c-6d0a-49d5-b692-469e0dbaec0f"
      },
      "execution_count": null,
      "outputs": [
        {
          "output_type": "stream",
          "name": "stdout",
          "text": [
            "[1, 4, 9, 16, 25]\n"
          ]
        }
      ]
    },
    {
      "cell_type": "code",
      "source": [
        "resp = map(lambda n:n**2, data)\n",
        "print(list(resp))"
      ],
      "metadata": {
        "colab": {
          "base_uri": "https://localhost:8080/"
        },
        "id": "vNONfviMEuzJ",
        "outputId": "4ade38b4-3ed9-4e23-d0e3-bcb8c297176c"
      },
      "execution_count": null,
      "outputs": [
        {
          "output_type": "stream",
          "name": "stdout",
          "text": [
            "[1, 4, 9, 16, 25]\n"
          ]
        }
      ]
    },
    {
      "cell_type": "code",
      "source": [
        "resp = filter(lambda n:n>2, data)\n",
        "print( list(resp) )"
      ],
      "metadata": {
        "colab": {
          "base_uri": "https://localhost:8080/"
        },
        "id": "jSN45xd5E2Vi",
        "outputId": "f78c3d04-e994-4d44-f52e-bada260bb552"
      },
      "execution_count": null,
      "outputs": [
        {
          "output_type": "stream",
          "name": "stdout",
          "text": [
            "[1]\n"
          ]
        }
      ]
    },
    {
      "cell_type": "code",
      "source": [
        "resp = functools.reduce(lambda a,n:a+n, data)\n",
        "print(resp)"
      ],
      "metadata": {
        "colab": {
          "base_uri": "https://localhost:8080/"
        },
        "id": "e83DxapWFYQp",
        "outputId": "4433b75d-ecdc-4d9b-f1f8-d2bb45140914"
      },
      "execution_count": null,
      "outputs": [
        {
          "output_type": "stream",
          "name": "stdout",
          "text": [
            "15\n"
          ]
        }
      ]
    },
    {
      "cell_type": "markdown",
      "source": [
        "**TUPLAS**"
      ],
      "metadata": {
        "id": "9RYnyWcrH5NJ"
      }
    },
    {
      "cell_type": "code",
      "source": [
        "semana = (\"domingo\", \"lunes\", \"martes\", \"miercoles\", \"jueves\", \"viernes\", \"sabado\")\n",
        "#semana[0] = \"otro\"\n",
        "print( semana.count(\"domingo\") ) #count cuenta el numero de veces que aparece un elemento en la tupla\n",
        "print( len(semana) )"
      ],
      "metadata": {
        "colab": {
          "base_uri": "https://localhost:8080/"
        },
        "id": "cUXhU5ubH46h",
        "outputId": "bbae442a-cf08-459a-d245-a1d1d0e15618"
      },
      "execution_count": null,
      "outputs": [
        {
          "output_type": "stream",
          "name": "stdout",
          "text": [
            "1\n",
            "7\n"
          ]
        }
      ]
    },
    {
      "cell_type": "markdown",
      "source": [
        "**LISTAS** => **Array**"
      ],
      "metadata": {
        "id": "r8xQvE7MJytA"
      }
    },
    {
      "cell_type": "code",
      "source": [
        "meses = [\"ene\", \"feb\", \"mar\", \"abr\", \"may\", \"jun\", \"jul\", \"ago\", \"sep\", \"oct\", \"nov\", \"dic\"]\n",
        "print( meses[-2:] ) #ultimos dos meses del año\n",
        "print( meses[:2] ) #primero dos meses del año\n",
        "\n",
        "meses[0] = \"enero\"\n",
        "\n",
        "print( meses )"
      ],
      "metadata": {
        "colab": {
          "base_uri": "https://localhost:8080/"
        },
        "id": "nomZjGFhJkBw",
        "outputId": "d3d965a4-c3d2-4205-d6c8-512a6c81e1c9"
      },
      "execution_count": null,
      "outputs": [
        {
          "output_type": "stream",
          "name": "stdout",
          "text": [
            "['nov', 'dic']\n",
            "['ene', 'feb']\n",
            "['enero', 'feb', 'mar', 'abr', 'may', 'jun', 'jul', 'ago', 'sep', 'oct', 'nov', 'dic']\n"
          ]
        }
      ]
    },
    {
      "cell_type": "code",
      "source": [
        "materias = [ [\"Progra I\", [5,6,8], [8,7,9], [9,10,9] ], [\"Progra II\"] ]\n",
        "print( materias[1][0] )"
      ],
      "metadata": {
        "colab": {
          "base_uri": "https://localhost:8080/"
        },
        "id": "6ctEMmtTKzS5",
        "outputId": "0dbc90e3-551d-408f-cfb4-c97f0e8151fd"
      },
      "execution_count": null,
      "outputs": [
        {
          "output_type": "stream",
          "name": "stdout",
          "text": [
            "Progra II\n"
          ]
        }
      ]
    },
    {
      "cell_type": "markdown",
      "source": [
        "**DICCIONARIOS** => **JSON**"
      ],
      "metadata": {
        "id": "RwntUNyBLnxB"
      }
    },
    {
      "cell_type": "code",
      "source": [
        "materias = {\n",
        "    \"Progra I\": {\n",
        "        \"c1\": {\n",
        "          \"lab1\" : 5,\n",
        "          \"lab2\" : 6,\n",
        "          \"parcial\" : 8\n",
        "      },\n",
        "      \"c2\": {\n",
        "          \"lab1\" : 8,\n",
        "          \"lab2\" : 7,\n",
        "          \"parcial\" : 9\n",
        "      },\n",
        "      \"c3\": {\n",
        "          \"lab1\" : 9,\n",
        "          \"lab2\" : 10,\n",
        "          \"parcial\" : 9\n",
        "      }\n",
        "    },\n",
        "    \"Progra II\" :{\n",
        "\n",
        "    }\n",
        "}\n",
        "print( materias[\"Progra I\"][\"c1\"][\"lab1\"] )"
      ],
      "metadata": {
        "colab": {
          "base_uri": "https://localhost:8080/"
        },
        "id": "yvSSwGxWLsRU",
        "outputId": "ae4fdf71-c0ca-4d39-b237-a4d8e86c67ba"
      },
      "execution_count": null,
      "outputs": [
        {
          "output_type": "stream",
          "name": "stdout",
          "text": [
            "5\n"
          ]
        }
      ]
    },
    {
      "cell_type": "markdown",
      "source": [
        "**LISTAS**"
      ],
      "metadata": {
        "id": "rflA-XK2Gxzp"
      }
    },
    {
      "cell_type": "code",
      "source": [
        "data = [2,5,6,8,9]"
      ],
      "metadata": {
        "id": "uUSZtwSvG8CR"
      },
      "execution_count": null,
      "outputs": []
    },
    {
      "cell_type": "code",
      "source": [
        "resp = map(lambda n:n**3, data)\n",
        "print(list(resp))"
      ],
      "metadata": {
        "colab": {
          "base_uri": "https://localhost:8080/"
        },
        "id": "EVZwYIs6HP1Y",
        "outputId": "7455c227-c1de-4507-b85c-e449c19bc691"
      },
      "execution_count": null,
      "outputs": [
        {
          "output_type": "stream",
          "name": "stdout",
          "text": [
            "[8, 125, 216, 512, 729]\n"
          ]
        }
      ]
    },
    {
      "cell_type": "code",
      "source": [
        "f = map(lambda c:c*9/5 + 32, data)\n",
        "print( list(f) )"
      ],
      "metadata": {
        "colab": {
          "base_uri": "https://localhost:8080/"
        },
        "id": "V9_XbvqiIUv9",
        "outputId": "e125616f-6872-420f-a42f-1a147c0fbc71"
      },
      "execution_count": null,
      "outputs": [
        {
          "output_type": "stream",
          "name": "stdout",
          "text": [
            "[35.6, 41.0, 42.8, 46.4, 48.2]\n"
          ]
        }
      ]
    },
    {
      "cell_type": "code",
      "source": [
        "pares = filter(lambda n:n%2==0, data)\n",
        "print( list(pares) )"
      ],
      "metadata": {
        "colab": {
          "base_uri": "https://localhost:8080/"
        },
        "id": "J72OJuAnKl2r",
        "outputId": "abaa672e-0ca3-4052-e9b3-b443a5d177c0"
      },
      "execution_count": null,
      "outputs": [
        {
          "output_type": "stream",
          "name": "stdout",
          "text": [
            "[2, 6, 8]\n"
          ]
        }
      ]
    },
    {
      "cell_type": "code",
      "source": [
        "impares = filter(lambda n:n%2!=0, data)\n",
        "print( list(impares) )"
      ],
      "metadata": {
        "colab": {
          "base_uri": "https://localhost:8080/"
        },
        "id": "Tbag1lNsNtCU",
        "outputId": "7f9e679a-f3d4-45d9-afed-935e602e3fde"
      },
      "execution_count": null,
      "outputs": [
        {
          "output_type": "stream",
          "name": "stdout",
          "text": [
            "[5, 9]\n"
          ]
        }
      ]
    },
    {
      "cell_type": "markdown",
      "source": [
        "**CICLOS**\n",
        "* FOR"
      ],
      "metadata": {
        "id": "ptWdcZGNOYHq"
      }
    },
    {
      "cell_type": "code",
      "source": [
        "for item in data:\n",
        "  print(item)"
      ],
      "metadata": {
        "id": "wxR2o4jcOVnL"
      },
      "execution_count": null,
      "outputs": []
    },
    {
      "cell_type": "markdown",
      "source": [
        "* WHILE"
      ],
      "metadata": {
        "id": "gQJ7xiLSO8Uh"
      }
    },
    {
      "cell_type": "code",
      "source": [
        "i=0\n",
        "n = len(data)\n",
        "while i<n:\n",
        "  print( data[i] )\n",
        "  i+=1"
      ],
      "metadata": {
        "id": "2ZUiISg8O7ox"
      },
      "execution_count": null,
      "outputs": []
    },
    {
      "cell_type": "markdown",
      "source": [
        "**TABLA DE MULTIPLICAR**"
      ],
      "metadata": {
        "id": "RHUHe8PZPwmx"
      }
    },
    {
      "cell_type": "code",
      "source": [
        "n = int(input(\"N Tabla: \"))\n",
        "\n",
        "for i in range(1,11):\n",
        "  print( n, \"x\", i, \"=\", n*i )"
      ],
      "metadata": {
        "id": "bGpBsH0TPJ5g"
      },
      "execution_count": null,
      "outputs": []
    },
    {
      "cell_type": "code",
      "source": [
        "edad = int(input(\"Edad: \"))\n",
        "\n",
        "if edad<=2:\n",
        "  print(\"soy un bebe\")\n",
        "elif edad<=11:\n",
        "  print(\"Soy un niño\")\n",
        "elif edad<18:\n",
        "  print(\"Soy un adolescente\")\n",
        "elif edad<=65:\n",
        "  print(\"soy mayor de edad\")\n",
        "elif edad<=85:\n",
        "  print(\"Soy un adulto mayor\")\n",
        "else:\n",
        "  print(\"Larga vida\")"
      ],
      "metadata": {
        "colab": {
          "base_uri": "https://localhost:8080/"
        },
        "id": "_L4PXBeGSkA8",
        "outputId": "cad7eae6-7a7c-49e4-9e1a-d42968df8b05"
      },
      "execution_count": null,
      "outputs": [
        {
          "output_type": "stream",
          "name": "stdout",
          "text": [
            "Edad: 5\n",
            "Soy un niño\n"
          ]
        }
      ]
    },
    {
      "cell_type": "code",
      "source": [
        "lista = [5,8,9,15,7,9,2,3, 2, 1]"
      ],
      "metadata": {
        "id": "gM0bEvUTSmya"
      },
      "execution_count": null,
      "outputs": []
    },
    {
      "cell_type": "code",
      "source": [
        "mayor = 0\n",
        "for num in lista:\n",
        "  if num>mayor:\n",
        "    mayor = num\n",
        "print(\"EL numero mayor de la lista: \", lista, \"es: \", mayor)"
      ],
      "metadata": {
        "id": "AblaQU4qStll",
        "outputId": "7cbaae80-b77e-4d6a-ccd2-569752ce104d",
        "colab": {
          "base_uri": "https://localhost:8080/"
        }
      },
      "execution_count": null,
      "outputs": [
        {
          "output_type": "stream",
          "name": "stdout",
          "text": [
            "EL numero mayor de la lista:  [5, 8, 9, 15, 7, 9, 2, 3, 2, 1] es:  15\n"
          ]
        }
      ]
    },
    {
      "cell_type": "code",
      "source": [
        "mayor = 0\n",
        "i=0\n",
        "n=len(lista)\n",
        "while i<n:\n",
        "  if lista[i]>mayor:\n",
        "    mayor = lista[i]\n",
        "  i+=1\n",
        "print(mayor)"
      ],
      "metadata": {
        "id": "5Jg3sc5KSvMN",
        "outputId": "72ea4dd9-05b6-4663-e480-b3e45f84c86b",
        "colab": {
          "base_uri": "https://localhost:8080/"
        }
      },
      "execution_count": null,
      "outputs": [
        {
          "output_type": "stream",
          "name": "stdout",
          "text": [
            "15\n"
          ]
        }
      ]
    },
    {
      "cell_type": "markdown",
      "source": [
        "**Escribir un programa que pida la nota de un examen (0-10), e imprima por pantalla la calificacion en formato: \"Suspenso\" si la nota es menor a 5, \"Aprobado\" si es entre 5 inclusive, y 7 sin incluir, \"Notable\" si esta entre 7 inclusive y 9 sin incluir, \"Sobresaliente\" si esta entre 9 inclusive y 10 sin incluir, y \"Honorable\" si es 10**\n"
      ],
      "metadata": {
        "id": "kp37Mh-9Jm4E"
      }
    },
    {
      "cell_type": "code",
      "source": [
        "nota = float(input(\"Nota: \"))\n",
        "if(nota<0 or nota>10):\n",
        "  print(\"Nota invalida\")\n",
        "elif(nota<5):\n",
        "  print(\"SUPENSO\")\n",
        "elif(nota<7):\n",
        "  print(\"APROBADO\")\n",
        "elif(nota<9):\n",
        "  print(\"NOTABLE\")\n",
        "elif(nota<10):\n",
        "  print(\"SOBRESALIENTE\")\n",
        "else:\n",
        "  print(\"HONORABLE\")"
      ],
      "metadata": {
        "colab": {
          "base_uri": "https://localhost:8080/"
        },
        "id": "3aEtrKofJh38",
        "outputId": "ebda1b09-de91-4d21-ff66-6eb54b827f4a"
      },
      "execution_count": null,
      "outputs": [
        {
          "output_type": "stream",
          "name": "stdout",
          "text": [
            "Nota: 10\n",
            "HONORABLE\n"
          ]
        }
      ]
    },
    {
      "cell_type": "markdown",
      "source": [
        "**Escriba un programa que muestre la secuencia fibonacci**"
      ],
      "metadata": {
        "id": "5vjEaZgMTKgI"
      }
    },
    {
      "cell_type": "code",
      "source": [
        "limit = int(input(\"Limit: \"))\n",
        "a=0\n",
        "b=1\n",
        "c=0\n",
        "while c<limit:\n",
        "  c=a+b\n",
        "  print(a,\"+\",b,\"=\", c)\n",
        "  b=a\n",
        "  a=c\n"
      ],
      "metadata": {
        "id": "-FHRFWknTKIh"
      },
      "execution_count": null,
      "outputs": []
    },
    {
      "cell_type": "markdown",
      "source": [],
      "metadata": {
        "id": "pGta5MfgSwri"
      }
    },
    {
      "cell_type": "markdown",
      "source": [
        "1. **Escriba un programa que encuentre la media aritmetica de una serie de numeros introducidos por el usuario**\n",
        "2. **Escriba un programa que determine si una palabra introducida por el usuario es palindrome o no, ejm. de palabras palindrome: Ana, oso, oro, etc.**\n",
        "3. Escriba un programa que convierta un numero instroducido por el usuario a su equivalente en numeros romanos. Ejm: 5 -> V"
      ],
      "metadata": {
        "id": "S2FEGrj0c0Yu"
      }
    },
    {
      "cell_type": "markdown",
      "source": [
        "**PROGRAMACION ORIENTADA A OBJETOS.**\n",
        "\n",
        "* CLASE"
      ],
      "metadata": {
        "id": "SO7e1TgjQFzL"
      }
    },
    {
      "cell_type": "code",
      "source": [
        "class Calculadora:\n",
        "  def sumar(sefl, num1, num2):\n",
        "    return num1 + num2"
      ],
      "metadata": {
        "id": "Q4--jycBQRW1"
      },
      "execution_count": null,
      "outputs": []
    },
    {
      "cell_type": "markdown",
      "source": [
        "* INSTANCIA DE UNA CLASE"
      ],
      "metadata": {
        "id": "oAURe7sOQqoz"
      }
    },
    {
      "cell_type": "code",
      "source": [
        "objCalculadora = Calculadora()"
      ],
      "metadata": {
        "id": "B2S0xUofQmqk"
      },
      "execution_count": null,
      "outputs": []
    },
    {
      "cell_type": "markdown",
      "source": [
        "* OBJETO"
      ],
      "metadata": {
        "id": "9_7inFkhRBmr"
      }
    },
    {
      "cell_type": "code",
      "source": [
        "print( \"La suma de 5 + 3 = \", objCalculadora.sumar(5,3) )"
      ],
      "metadata": {
        "colab": {
          "base_uri": "https://localhost:8080/"
        },
        "id": "BGr-KldCRBOL",
        "outputId": "4cb28bcb-89c2-4fb9-fe90-108a95e1e2c4"
      },
      "execution_count": null,
      "outputs": [
        {
          "output_type": "stream",
          "name": "stdout",
          "text": [
            "La suma de 5 + 3 =  8\n"
          ]
        }
      ]
    }
  ]
}